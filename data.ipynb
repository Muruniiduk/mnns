{
 "cells": [
  {
   "cell_type": "code",
   "execution_count": 1,
   "metadata": {},
   "outputs": [],
   "source": [
    "from mujoco_py import load_model_from_xml, MjSim, MjViewer\n",
    "import math\n",
    "import os\n",
    "\n",
    "import mujoco_py\n",
    "import os\n",
    "import cv2\n",
    "import numpy as np\n",
    "import subprocess\n",
    "\n",
    "#<camera name=\"main1\" mode=\"targetbody\" target=\"floor\" euler=\"0 0 0\" fovy=\"100\" pos=\"0 0 2.5\"/>\n",
    "MODEL_XML = \"\"\"\n",
    "<?xml version=\"1.0\" ?>\n",
    "<mujoco>\n",
    "    <option timestep=\"0.005\" />\n",
    "    <worldbody>\n",
    "        <body name=\"robot\" pos=\"0 0 0.2\">\n",
    "            <joint axis=\"1 0 0\" damping=\"-0.1\" name=\"slide0\" pos=\"0 0 0\" type=\"slide\"/>\n",
    "            <joint axis=\"0 1 0\" damping=\"-0.1\" name=\"slide1\" pos=\"0 0 0\" type=\"slide\"/>\n",
    "            <joint axis=\"0 0 1\" damping=\"1\" name=\"slide2\" pos=\"0 0 0\" type=\"slide\"/>\n",
    "            <geom mass=\"10\" pos=\"0 0 0\" rgba=\"1 0 0 1\" size=\"0.15\" type=\"sphere\" friction=\"0 0\" solref=\"-1000 -1\"/>\n",
    "        </body>\n",
    "\n",
    "        <body name=\"box\" pos=\"-0.98 0 0.2\">\n",
    "            <geom mass=\"0.1\" size=\"0.02 1 0.15\" rgba=\"0 1 0 1\" type=\"box\" friction=\"0 0\"/>\n",
    "        </body>\n",
    "        <body name=\"box2\" pos=\"0.98 0 0.2\">\n",
    "            <geom mass=\"0.1\" size=\"0.02 1 0.15\" rgba=\"0 1 0 1\" type=\"box\" friction=\"0 0\"/>\n",
    "        </body>\n",
    "        <body name=\"box3\" pos=\"0 0.98 0.2\">\n",
    "            <geom mass=\"0.1\" size=\"1 0.02 0.15\" rgba=\"0 1 0 1\" type=\"box\" friction=\"0 0\"/>\n",
    "        </body>\n",
    "        <body name=\"box4\" pos=\"0 -0.98 0.2\">\n",
    "            <geom mass=\"0.1\" size=\"1 0.02 0.15\" rgba=\"0 1 0 1\" type=\"box\" friction=\"0 0\"/>\n",
    "        </body>\n",
    "\n",
    "\n",
    "        <body name=\"floor\" pos=\"0 0 0.025\">\n",
    "            <geom condim=\"3\" size=\"1.0 1.0 0.02\" rgba=\"0 1 0 1\" type=\"box\" friction=\"0 0\"/>\n",
    "            <camera euler=\"0 0 0\" fovy=\"60\" name=\"rgb\" pos=\"0 0 2.5\"></camera>\n",
    "        </body>\n",
    "    </worldbody>\n",
    "    <actuator>\n",
    "        <motor gear=\"2000.0\" joint=\"slide0\"/>\n",
    "        <motor gear=\"2000.0\" joint=\"slide1\"/>\n",
    "    </actuator>\n",
    "</mujoco>\n",
    "\"\"\""
   ]
  },
  {
   "cell_type": "code",
   "execution_count": 2,
   "metadata": {},
   "outputs": [],
   "source": [
    "# model = load_model_from_xml(MODEL_XML)\n",
    "# sim = MjSim(model)\n",
    "# viewer = MjViewer(sim)\n",
    "# viewer.cam.elevation = -90\n",
    "# t = 0\n",
    "# while True:\n",
    "#     sim.data.ctrl[0] = (t==0) * (-1)#math.cos(t / 10.) * 0.01 #speed at t==0\n",
    "#     sim.data.ctrl[1] = (t==0) * (-0.5)\n",
    "#     # sim.data.ctrl[1] = math.sin(t / 10.) * 0.01\n",
    "#     t += 1\n",
    "#     sim.step()\n",
    "#     viewer.render()\n",
    "#     if t > 100 and os.getenv('TESTING') is not None:\n",
    "#         break"
   ]
  },
  {
   "cell_type": "code",
   "execution_count": 3,
   "metadata": {},
   "outputs": [
    {
     "name": "stdout",
     "output_type": "stream",
     "text": [
      "0000\n",
      "0001\n",
      "0002\n",
      "0003\n",
      "0004\n"
     ]
    }
   ],
   "source": [
    "for i in range(5):\n",
    "    s = (\"%.4d\" % i)\n",
    "    print(s)"
   ]
  },
  {
   "cell_type": "code",
   "execution_count": 6,
   "metadata": {},
   "outputs": [
    {
     "data": {
      "text/plain": [
       "array([0., 0., 0.])"
      ]
     },
     "execution_count": 6,
     "metadata": {},
     "output_type": "execute_result"
    }
   ],
   "source": [
    "sim.data.qpos"
   ]
  },
  {
   "cell_type": "code",
   "execution_count": 4,
   "metadata": {},
   "outputs": [],
   "source": [
    "model = load_model_from_xml(MODEL_XML)\n",
    "sim = MjSim(model)\n",
    "\n",
    "# to speed up computation we need the off screen rendering\n",
    "# # viewer = mujoco_py.MjRenderContextOffscreen(sim, 0)\n",
    "# viewer = mujoco_py.MjRenderContext(sim, 0)\n",
    "# # viewer.cam.elevation = -90\n",
    "# for i in range(1200):\n",
    "#     sim.data.ctrl[0] = (i==0) * (-1) #speed at t==0\n",
    "#     sim.data.ctrl[1] = (i==0) * (-0.5)\n",
    "# #     viewer.render(480, 480, 0)\n",
    "# #     data = np.asarray(viewer.read_pixels(420, 380, depth=False)[::-1, :, :], dtype=np.uint8)\n",
    "# #     data = np.asarray(viewer.read_pixels(480, 480, depth=False)[:, :, :], dtype=np.uint8)\n",
    "#     # save data\n",
    "# #     if data is not None:\n",
    "# #         name = (\"frames/img_%.4d.png\" % i)\n",
    "# #         cv2.imwrite(name, data)\n",
    "\n",
    "#     if (i%100==0): print(i)\n",
    "#     sim.step()\n",
    "# print(data.shape)"
   ]
  },
  {
   "cell_type": "code",
   "execution_count": 9,
   "metadata": {},
   "outputs": [
    {
     "data": {
      "text/plain": [
       "array([ 0.54284454,  0.37871855, -0.00517276])"
      ]
     },
     "execution_count": 9,
     "metadata": {},
     "output_type": "execute_result"
    }
   ],
   "source": [
    "sim.data.qpos"
   ]
  },
  {
   "cell_type": "code",
   "execution_count": 33,
   "metadata": {},
   "outputs": [],
   "source": [
    "sim.step()"
   ]
  },
  {
   "cell_type": "code",
   "execution_count": 27,
   "metadata": {},
   "outputs": [
    {
     "data": {
      "text/plain": [
       "array([ 0.58383722,  0.35714398, -0.00521374])"
      ]
     },
     "execution_count": 27,
     "metadata": {},
     "output_type": "execute_result"
    }
   ],
   "source": [
    "sim.data.qpos"
   ]
  },
  {
   "cell_type": "code",
   "execution_count": 29,
   "metadata": {},
   "outputs": [
    {
     "data": {
      "text/plain": [
       "array([[1., 0., 0., 0., 1., 0., 0., 0., 1.],\n",
       "       [1., 0., 0., 0., 1., 0., 0., 0., 1.],\n",
       "       [1., 0., 0., 0., 1., 0., 0., 0., 1.],\n",
       "       [1., 0., 0., 0., 1., 0., 0., 0., 1.],\n",
       "       [1., 0., 0., 0., 1., 0., 0., 0., 1.],\n",
       "       [1., 0., 0., 0., 1., 0., 0., 0., 1.],\n",
       "       [1., 0., 0., 0., 1., 0., 0., 0., 1.]])"
      ]
     },
     "execution_count": 29,
     "metadata": {},
     "output_type": "execute_result"
    }
   ],
   "source": [
    "sim.data.body_xmat"
   ]
  },
  {
   "cell_type": "code",
   "execution_count": 34,
   "metadata": {},
   "outputs": [
    {
     "data": {
      "text/plain": [
       "array([ 0.91121887, -0.47957881,  0.00597265])"
      ]
     },
     "execution_count": 34,
     "metadata": {},
     "output_type": "execute_result"
    }
   ],
   "source": [
    "sim.data.qvel"
   ]
  },
  {
   "cell_type": "code",
   "execution_count": null,
   "metadata": {},
   "outputs": [],
   "source": []
  }
 ],
 "metadata": {
  "kernelspec": {
   "display_name": "Python 3",
   "language": "python",
   "name": "python3"
  },
  "language_info": {
   "codemirror_mode": {
    "name": "ipython",
    "version": 3
   },
   "file_extension": ".py",
   "mimetype": "text/x-python",
   "name": "python",
   "nbconvert_exporter": "python",
   "pygments_lexer": "ipython3",
   "version": "3.6.8"
  }
 },
 "nbformat": 4,
 "nbformat_minor": 2
}
