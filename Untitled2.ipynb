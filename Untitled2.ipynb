{
 "cells": [
  {
   "cell_type": "code",
   "execution_count": 1,
   "metadata": {},
   "outputs": [
    {
     "name": "stderr",
     "output_type": "stream",
     "text": [
      "Using TensorFlow backend.\n"
     ]
    }
   ],
   "source": [
    "import pandas as pd\n",
    "import mujoco_py\n",
    "import cv2\n",
    "import numpy as np\n",
    "import matplotlib.pyplot as plt\n",
    "import glob\n",
    "\n",
    "from keras.layers import Input, Conv2D, Conv1D, MaxPooling2D, Dense, \\\n",
    "                        Flatten, Dropout, Reshape\n",
    "from keras.models import Model, Sequential\n",
    "from keras import optimizers\n",
    "from keras.regularizers import l1_l2\n",
    "from keras.initializers import Zeros as initZeros\n",
    "\n",
    "from keras.models import load_model\n",
    "from keras.models import model_from_json\n",
    "import datetime\n",
    "import sys\n"
   ]
  },
  {
   "cell_type": "code",
   "execution_count": 2,
   "metadata": {},
   "outputs": [],
   "source": [
    "def open_and_load(string):\n",
    "    \"\"\"Open model and load weights\"\"\"\n",
    "    with open(string+'.json', 'r') as f:\n",
    "        model = model_from_json(f.read())\n",
    "    model.load_weights(string+'.h5')\n",
    "    return model\n",
    "\n",
    "def load_128_images_starting(a):\n",
    "    \"\"\"Loads 128 images starting with a. Loading all images crashes.\"\"\"\n",
    "    images = []\n",
    "    loc = \"/home/erik/mujocopy_testikas/frames/\"\n",
    "    for i in range(a,a+128):\n",
    "        s = (\"%.4d\" % i) #0200\n",
    "        images += [cv2.imread(loc+\"img_\"+s+\".png\")]\n",
    "    return images\n",
    "\n",
    "def save_model(model, model_str):\n",
    "    \"\"\"Saves model with weights.\"\"\"\n",
    "    model_json = model.to_json()\n",
    "    with open('models/'+model_str+\".json\", \"w\") as json_file:\n",
    "        json_file.write(model_json)\n",
    "    # serialize weights to HDF5\n",
    "    model.save_weights('models/'+model_str+\".h5\")\n",
    "    print(\"Saved model to disk, name: \", model_str)\n",
    "\n",
    "df = pd.read_csv('df.csv')"
   ]
  },
  {
   "cell_type": "code",
   "execution_count": 3,
   "metadata": {},
   "outputs": [],
   "source": [
    "model = open_and_load(\"models/model_2019-05-28_00:36:35.342452\")\n",
    "#print(\"HISTORY!\")\n",
    "#print(model.get_weights())\n",
    "model.compile(optimizer='adam',\n",
    "             loss='mean_squared_error')"
   ]
  },
  {
   "cell_type": "code",
   "execution_count": 13,
   "metadata": {},
   "outputs": [
    {
     "name": "stdout",
     "output_type": "stream",
     "text": [
      "RMSE on single instance:  0.05091979943753703\n"
     ]
    }
   ],
   "source": [
    "def test_single_instance(i):\n",
    "    img = cv2.imread((\"/home/erik/mujocopy_testikas/frames/img_%.4d.png\" % i))\n",
    "    X = np.array([img])\n",
    "    p = model.predict(X)[0]\n",
    "    y = df.iloc[i][:2]\n",
    "    print(\"RMSE on single instance: \", np.sqrt(np.mean((p-y)**2)))\n",
    "\n",
    "test_single_instance(1)"
   ]
  },
  {
   "cell_type": "code",
   "execution_count": 14,
   "metadata": {},
   "outputs": [],
   "source": [
    "i = 1\n",
    "img = cv2.imread((\"/home/erik/mujocopy_testikas/frames/img_%.4d.png\" % i))\n",
    "X = np.array([img])\n",
    "p = model.predict(X)[0]\n",
    "y = df.iloc[i][:2]"
   ]
  },
  {
   "cell_type": "code",
   "execution_count": 15,
   "metadata": {},
   "outputs": [
    {
     "data": {
      "text/plain": [
       "<matplotlib.image.AxesImage at 0x7f082c7a8550>"
      ]
     },
     "execution_count": 15,
     "metadata": {},
     "output_type": "execute_result"
    },
    {
     "data": {
      "image/png": "[encoded data removed]",
      "text/plain": [
       "<Figure size 432x288 with 1 Axes>"
      ]
     },
     "metadata": {
      "needs_background": "light"
     },
     "output_type": "display_data"
    }
   ],
   "source": [
    "plt.imshow(img)"
   ]
  },
  {
   "cell_type": "code",
   "execution_count": 16,
   "metadata": {},
   "outputs": [
    {
     "data": {
      "text/plain": [
       "x        0.757205\n",
       "y       -0.816913\n",
       "x_vel    0.788380\n",
       "y_vel   -0.001424\n",
       "Name: 7143, dtype: float64"
      ]
     },
     "execution_count": 16,
     "metadata": {},
     "output_type": "execute_result"
    }
   ],
   "source": [
    "df.iloc[7143]"
   ]
  },
  {
   "cell_type": "code",
   "execution_count": 22,
   "metadata": {},
   "outputs": [
    {
     "name": "stdout",
     "output_type": "stream",
     "text": [
      "_________________________________________________________________\n",
      "Layer (type)                 Output Shape              Param #   \n",
      "=================================================================\n",
      "input_2 (InputLayer)         (None, 480, 480, 3)       0         \n",
      "_________________________________________________________________\n",
      "conv (Conv2D)                (None, 480, 480, 1)       4         \n",
      "_________________________________________________________________\n",
      "max_pooling2d_4 (MaxPooling2 (None, 240, 240, 1)       0         \n",
      "_________________________________________________________________\n",
      "conv2d_2 (Conv2D)            (None, 240, 240, 1)       10        \n",
      "_________________________________________________________________\n",
      "max_pooling2d_5 (MaxPooling2 (None, 120, 120, 1)       0         \n",
      "_________________________________________________________________\n",
      "flatten_2 (Flatten)          (None, 14400)             0         \n",
      "_________________________________________________________________\n",
      "dense_2 (Dense)              (None, 2)                 28802     \n",
      "=================================================================\n",
      "Total params: 28,816\n",
      "Trainable params: 28,816\n",
      "Non-trainable params: 0\n",
      "_________________________________________________________________\n"
     ]
    }
   ],
   "source": [
    "model.summary()"
   ]
  },
  {
   "cell_type": "code",
   "execution_count": null,
   "metadata": {},
   "outputs": [],
   "source": []
  },
  {
   "cell_type": "code",
   "execution_count": 17,
   "metadata": {},
   "outputs": [
    {
     "data": {
      "text/plain": [
       "x        0.863201\n",
       "y       -0.274021\n",
       "x_vel    0.173056\n",
       "y_vel   -0.184050\n",
       "Name: 300, dtype: float64"
      ]
     },
     "execution_count": 17,
     "metadata": {},
     "output_type": "execute_result"
    }
   ],
   "source": [
    "df.iloc[300]"
   ]
  },
  {
   "cell_type": "code",
   "execution_count": 18,
   "metadata": {},
   "outputs": [
    {
     "data": {
      "text/plain": [
       "x   -0.009217\n",
       "y   -0.000907\n",
       "Name: 1, dtype: float64"
      ]
     },
     "execution_count": 18,
     "metadata": {},
     "output_type": "execute_result"
    }
   ],
   "source": [
    "y"
   ]
  },
  {
   "cell_type": "code",
   "execution_count": 21,
   "metadata": {},
   "outputs": [
    {
     "data": {
      "text/plain": [
       "0.015"
      ]
     },
     "execution_count": 21,
     "metadata": {},
     "output_type": "execute_result"
    }
   ],
   "source": [
    "1.5/100"
   ]
  },
  {
   "cell_type": "code",
   "execution_count": 19,
   "metadata": {},
   "outputs": [
    {
     "data": {
      "text/plain": [
       "array([-0.08092392, -0.00752483], dtype=float32)"
      ]
     },
     "execution_count": 19,
     "metadata": {},
     "output_type": "execute_result"
    }
   ],
   "source": [
    "p"
   ]
  },
  {
   "cell_type": "code",
   "execution_count": 11,
   "metadata": {},
   "outputs": [
    {
     "name": "stderr",
     "output_type": "stream",
     "text": [
      "/home/erik/.conda/envs/ai/lib/python3.6/site-packages/numpy/core/fromnumeric.py:51: FutureWarning: \n",
      "The current behaviour of 'Series.argmin' is deprecated, use 'idxmin'\n",
      "instead.\n",
      "The behavior of 'argmin' will be corrected to return the positional\n",
      "minimum in the future. For now, use 'series.values.argmin' or\n",
      "'np.argmin(np.array(values))' to get the position of the minimum\n",
      "row.\n",
      "  return getattr(obj, method)(*args, **kwds)\n"
     ]
    },
    {
     "data": {
      "text/plain": [
       "7143"
      ]
     },
     "execution_count": 11,
     "metadata": {},
     "output_type": "execute_result"
    }
   ],
   "source": [
    "np.argmin(df.iloc[:,1])"
   ]
  },
  {
   "cell_type": "code",
   "execution_count": 12,
   "metadata": {},
   "outputs": [
    {
     "data": {
      "text/plain": [
       "(1, 480, 480, 3)"
      ]
     },
     "execution_count": 12,
     "metadata": {},
     "output_type": "execute_result"
    }
   ],
   "source": [
    "X.shape"
   ]
  },
  {
   "cell_type": "code",
   "execution_count": 77,
   "metadata": {},
   "outputs": [],
   "source": [
    "X = np.array(load_128_images_starting(1))\n",
    "p = model.predict(X)\n",
    "y = df.iloc[1:129,:2]"
   ]
  },
  {
   "cell_type": "code",
   "execution_count": 85,
   "metadata": {},
   "outputs": [
    {
     "data": {
      "text/plain": [
       "0.7734976031517734"
      ]
     },
     "execution_count": 85,
     "metadata": {},
     "output_type": "execute_result"
    }
   ],
   "source": [
    "np.sqrt(np.mean(np.mean((p-y)**2,axis=1)))"
   ]
  },
  {
   "cell_type": "code",
   "execution_count": 79,
   "metadata": {},
   "outputs": [
    {
     "data": {
      "text/html": [
       "<div>\n",
       "<style scoped>\n",
       "    .dataframe tbody tr th:only-of-type {\n",
       "        vertical-align: middle;\n",
       "    }\n",
       "\n",
       "    .dataframe tbody tr th {\n",
       "        vertical-align: top;\n",
       "    }\n",
       "\n",
       "    .dataframe thead th {\n",
       "        text-align: right;\n",
       "    }\n",
       "</style>\n",
       "<table border=\"1\" class=\"dataframe\">\n",
       "  <thead>\n",
       "    <tr style=\"text-align: right;\">\n",
       "      <th></th>\n",
       "      <th>x</th>\n",
       "      <th>y</th>\n",
       "    </tr>\n",
       "  </thead>\n",
       "  <tbody>\n",
       "    <tr>\n",
       "      <th>1</th>\n",
       "      <td>-0.009217</td>\n",
       "      <td>-0.000907</td>\n",
       "    </tr>\n",
       "    <tr>\n",
       "      <th>2</th>\n",
       "      <td>-0.018435</td>\n",
       "      <td>-0.001813</td>\n",
       "    </tr>\n",
       "    <tr>\n",
       "      <th>3</th>\n",
       "      <td>-0.027653</td>\n",
       "      <td>-0.002720</td>\n",
       "    </tr>\n",
       "    <tr>\n",
       "      <th>4</th>\n",
       "      <td>-0.036872</td>\n",
       "      <td>-0.003627</td>\n",
       "    </tr>\n",
       "    <tr>\n",
       "      <th>5</th>\n",
       "      <td>-0.046091</td>\n",
       "      <td>-0.004533</td>\n",
       "    </tr>\n",
       "    <tr>\n",
       "      <th>6</th>\n",
       "      <td>-0.055310</td>\n",
       "      <td>-0.005440</td>\n",
       "    </tr>\n",
       "    <tr>\n",
       "      <th>7</th>\n",
       "      <td>-0.064530</td>\n",
       "      <td>-0.006347</td>\n",
       "    </tr>\n",
       "    <tr>\n",
       "      <th>8</th>\n",
       "      <td>-0.073751</td>\n",
       "      <td>-0.007254</td>\n",
       "    </tr>\n",
       "    <tr>\n",
       "      <th>9</th>\n",
       "      <td>-0.082972</td>\n",
       "      <td>-0.008161</td>\n",
       "    </tr>\n",
       "    <tr>\n",
       "      <th>10</th>\n",
       "      <td>-0.092193</td>\n",
       "      <td>-0.009068</td>\n",
       "    </tr>\n",
       "    <tr>\n",
       "      <th>11</th>\n",
       "      <td>-0.101415</td>\n",
       "      <td>-0.009975</td>\n",
       "    </tr>\n",
       "    <tr>\n",
       "      <th>12</th>\n",
       "      <td>-0.110637</td>\n",
       "      <td>-0.010882</td>\n",
       "    </tr>\n",
       "    <tr>\n",
       "      <th>13</th>\n",
       "      <td>-0.119860</td>\n",
       "      <td>-0.011789</td>\n",
       "    </tr>\n",
       "    <tr>\n",
       "      <th>14</th>\n",
       "      <td>-0.129083</td>\n",
       "      <td>-0.012696</td>\n",
       "    </tr>\n",
       "    <tr>\n",
       "      <th>15</th>\n",
       "      <td>-0.138307</td>\n",
       "      <td>-0.013604</td>\n",
       "    </tr>\n",
       "    <tr>\n",
       "      <th>16</th>\n",
       "      <td>-0.147531</td>\n",
       "      <td>-0.014511</td>\n",
       "    </tr>\n",
       "    <tr>\n",
       "      <th>17</th>\n",
       "      <td>-0.156755</td>\n",
       "      <td>-0.015418</td>\n",
       "    </tr>\n",
       "    <tr>\n",
       "      <th>18</th>\n",
       "      <td>-0.165980</td>\n",
       "      <td>-0.016326</td>\n",
       "    </tr>\n",
       "    <tr>\n",
       "      <th>19</th>\n",
       "      <td>-0.175206</td>\n",
       "      <td>-0.017233</td>\n",
       "    </tr>\n",
       "    <tr>\n",
       "      <th>20</th>\n",
       "      <td>-0.184432</td>\n",
       "      <td>-0.018140</td>\n",
       "    </tr>\n",
       "    <tr>\n",
       "      <th>21</th>\n",
       "      <td>-0.193658</td>\n",
       "      <td>-0.019048</td>\n",
       "    </tr>\n",
       "    <tr>\n",
       "      <th>22</th>\n",
       "      <td>-0.202885</td>\n",
       "      <td>-0.019956</td>\n",
       "    </tr>\n",
       "    <tr>\n",
       "      <th>23</th>\n",
       "      <td>-0.212112</td>\n",
       "      <td>-0.020863</td>\n",
       "    </tr>\n",
       "    <tr>\n",
       "      <th>24</th>\n",
       "      <td>-0.221340</td>\n",
       "      <td>-0.021771</td>\n",
       "    </tr>\n",
       "    <tr>\n",
       "      <th>25</th>\n",
       "      <td>-0.230568</td>\n",
       "      <td>-0.022678</td>\n",
       "    </tr>\n",
       "    <tr>\n",
       "      <th>26</th>\n",
       "      <td>-0.239797</td>\n",
       "      <td>-0.023586</td>\n",
       "    </tr>\n",
       "    <tr>\n",
       "      <th>27</th>\n",
       "      <td>-0.249026</td>\n",
       "      <td>-0.024494</td>\n",
       "    </tr>\n",
       "    <tr>\n",
       "      <th>28</th>\n",
       "      <td>-0.258256</td>\n",
       "      <td>-0.025402</td>\n",
       "    </tr>\n",
       "    <tr>\n",
       "      <th>29</th>\n",
       "      <td>-0.267486</td>\n",
       "      <td>-0.026310</td>\n",
       "    </tr>\n",
       "    <tr>\n",
       "      <th>30</th>\n",
       "      <td>-0.276716</td>\n",
       "      <td>-0.027218</td>\n",
       "    </tr>\n",
       "    <tr>\n",
       "      <th>...</th>\n",
       "      <td>...</td>\n",
       "      <td>...</td>\n",
       "    </tr>\n",
       "    <tr>\n",
       "      <th>99</th>\n",
       "      <td>-0.863313</td>\n",
       "      <td>-0.089973</td>\n",
       "    </tr>\n",
       "    <tr>\n",
       "      <th>100</th>\n",
       "      <td>-0.860105</td>\n",
       "      <td>-0.090884</td>\n",
       "    </tr>\n",
       "    <tr>\n",
       "      <th>101</th>\n",
       "      <td>-0.855595</td>\n",
       "      <td>-0.091795</td>\n",
       "    </tr>\n",
       "    <tr>\n",
       "      <th>102</th>\n",
       "      <td>-0.849909</td>\n",
       "      <td>-0.092706</td>\n",
       "    </tr>\n",
       "    <tr>\n",
       "      <th>103</th>\n",
       "      <td>-0.843203</td>\n",
       "      <td>-0.093618</td>\n",
       "    </tr>\n",
       "    <tr>\n",
       "      <th>104</th>\n",
       "      <td>-0.835658</td>\n",
       "      <td>-0.094529</td>\n",
       "    </tr>\n",
       "    <tr>\n",
       "      <th>105</th>\n",
       "      <td>-0.827478</td>\n",
       "      <td>-0.095440</td>\n",
       "    </tr>\n",
       "    <tr>\n",
       "      <th>106</th>\n",
       "      <td>-0.818881</td>\n",
       "      <td>-0.096352</td>\n",
       "    </tr>\n",
       "    <tr>\n",
       "      <th>107</th>\n",
       "      <td>-0.810095</td>\n",
       "      <td>-0.097263</td>\n",
       "    </tr>\n",
       "    <tr>\n",
       "      <th>108</th>\n",
       "      <td>-0.801309</td>\n",
       "      <td>-0.098174</td>\n",
       "    </tr>\n",
       "    <tr>\n",
       "      <th>109</th>\n",
       "      <td>-0.792522</td>\n",
       "      <td>-0.099086</td>\n",
       "    </tr>\n",
       "    <tr>\n",
       "      <th>110</th>\n",
       "      <td>-0.783735</td>\n",
       "      <td>-0.099998</td>\n",
       "    </tr>\n",
       "    <tr>\n",
       "      <th>111</th>\n",
       "      <td>-0.774947</td>\n",
       "      <td>-0.100909</td>\n",
       "    </tr>\n",
       "    <tr>\n",
       "      <th>112</th>\n",
       "      <td>-0.766159</td>\n",
       "      <td>-0.101821</td>\n",
       "    </tr>\n",
       "    <tr>\n",
       "      <th>113</th>\n",
       "      <td>-0.757371</td>\n",
       "      <td>-0.102732</td>\n",
       "    </tr>\n",
       "    <tr>\n",
       "      <th>114</th>\n",
       "      <td>-0.748582</td>\n",
       "      <td>-0.103644</td>\n",
       "    </tr>\n",
       "    <tr>\n",
       "      <th>115</th>\n",
       "      <td>-0.739793</td>\n",
       "      <td>-0.104556</td>\n",
       "    </tr>\n",
       "    <tr>\n",
       "      <th>116</th>\n",
       "      <td>-0.731003</td>\n",
       "      <td>-0.105468</td>\n",
       "    </tr>\n",
       "    <tr>\n",
       "      <th>117</th>\n",
       "      <td>-0.722213</td>\n",
       "      <td>-0.106380</td>\n",
       "    </tr>\n",
       "    <tr>\n",
       "      <th>118</th>\n",
       "      <td>-0.713423</td>\n",
       "      <td>-0.107292</td>\n",
       "    </tr>\n",
       "    <tr>\n",
       "      <th>119</th>\n",
       "      <td>-0.704632</td>\n",
       "      <td>-0.108204</td>\n",
       "    </tr>\n",
       "    <tr>\n",
       "      <th>120</th>\n",
       "      <td>-0.695840</td>\n",
       "      <td>-0.109116</td>\n",
       "    </tr>\n",
       "    <tr>\n",
       "      <th>121</th>\n",
       "      <td>-0.687048</td>\n",
       "      <td>-0.110028</td>\n",
       "    </tr>\n",
       "    <tr>\n",
       "      <th>122</th>\n",
       "      <td>-0.678256</td>\n",
       "      <td>-0.110940</td>\n",
       "    </tr>\n",
       "    <tr>\n",
       "      <th>123</th>\n",
       "      <td>-0.669463</td>\n",
       "      <td>-0.111852</td>\n",
       "    </tr>\n",
       "    <tr>\n",
       "      <th>124</th>\n",
       "      <td>-0.660670</td>\n",
       "      <td>-0.112764</td>\n",
       "    </tr>\n",
       "    <tr>\n",
       "      <th>125</th>\n",
       "      <td>-0.651876</td>\n",
       "      <td>-0.113676</td>\n",
       "    </tr>\n",
       "    <tr>\n",
       "      <th>126</th>\n",
       "      <td>-0.643082</td>\n",
       "      <td>-0.114588</td>\n",
       "    </tr>\n",
       "    <tr>\n",
       "      <th>127</th>\n",
       "      <td>-0.634288</td>\n",
       "      <td>-0.115501</td>\n",
       "    </tr>\n",
       "    <tr>\n",
       "      <th>128</th>\n",
       "      <td>-0.625493</td>\n",
       "      <td>-0.116413</td>\n",
       "    </tr>\n",
       "  </tbody>\n",
       "</table>\n",
       "<p>128 rows × 2 columns</p>\n",
       "</div>"
      ],
      "text/plain": [
       "            x         y\n",
       "1   -0.009217 -0.000907\n",
       "2   -0.018435 -0.001813\n",
       "3   -0.027653 -0.002720\n",
       "4   -0.036872 -0.003627\n",
       "5   -0.046091 -0.004533\n",
       "6   -0.055310 -0.005440\n",
       "7   -0.064530 -0.006347\n",
       "8   -0.073751 -0.007254\n",
       "9   -0.082972 -0.008161\n",
       "10  -0.092193 -0.009068\n",
       "11  -0.101415 -0.009975\n",
       "12  -0.110637 -0.010882\n",
       "13  -0.119860 -0.011789\n",
       "14  -0.129083 -0.012696\n",
       "15  -0.138307 -0.013604\n",
       "16  -0.147531 -0.014511\n",
       "17  -0.156755 -0.015418\n",
       "18  -0.165980 -0.016326\n",
       "19  -0.175206 -0.017233\n",
       "20  -0.184432 -0.018140\n",
       "21  -0.193658 -0.019048\n",
       "22  -0.202885 -0.019956\n",
       "23  -0.212112 -0.020863\n",
       "24  -0.221340 -0.021771\n",
       "25  -0.230568 -0.022678\n",
       "26  -0.239797 -0.023586\n",
       "27  -0.249026 -0.024494\n",
       "28  -0.258256 -0.025402\n",
       "29  -0.267486 -0.026310\n",
       "30  -0.276716 -0.027218\n",
       "..        ...       ...\n",
       "99  -0.863313 -0.089973\n",
       "100 -0.860105 -0.090884\n",
       "101 -0.855595 -0.091795\n",
       "102 -0.849909 -0.092706\n",
       "103 -0.843203 -0.093618\n",
       "104 -0.835658 -0.094529\n",
       "105 -0.827478 -0.095440\n",
       "106 -0.818881 -0.096352\n",
       "107 -0.810095 -0.097263\n",
       "108 -0.801309 -0.098174\n",
       "109 -0.792522 -0.099086\n",
       "110 -0.783735 -0.099998\n",
       "111 -0.774947 -0.100909\n",
       "112 -0.766159 -0.101821\n",
       "113 -0.757371 -0.102732\n",
       "114 -0.748582 -0.103644\n",
       "115 -0.739793 -0.104556\n",
       "116 -0.731003 -0.105468\n",
       "117 -0.722213 -0.106380\n",
       "118 -0.713423 -0.107292\n",
       "119 -0.704632 -0.108204\n",
       "120 -0.695840 -0.109116\n",
       "121 -0.687048 -0.110028\n",
       "122 -0.678256 -0.110940\n",
       "123 -0.669463 -0.111852\n",
       "124 -0.660670 -0.112764\n",
       "125 -0.651876 -0.113676\n",
       "126 -0.643082 -0.114588\n",
       "127 -0.634288 -0.115501\n",
       "128 -0.625493 -0.116413\n",
       "\n",
       "[128 rows x 2 columns]"
      ]
     },
     "execution_count": 79,
     "metadata": {},
     "output_type": "execute_result"
    }
   ],
   "source": [
    "y"
   ]
  },
  {
   "cell_type": "code",
   "execution_count": null,
   "metadata": {},
   "outputs": [],
   "source": []
  }
 ],
 "metadata": {
  "kernelspec": {
   "display_name": "Python 3",
   "language": "python",
   "name": "python3"
  },
  "language_info": {
   "codemirror_mode": {
    "name": "ipython",
    "version": 3
   },
   "file_extension": ".py",
   "mimetype": "text/x-python",
   "name": "python",
   "nbconvert_exporter": "python",
   "pygments_lexer": "ipython3",
   "version": "3.6.8"
  }
 },
 "nbformat": 4,
 "nbformat_minor": 2
}
