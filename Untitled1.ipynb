{
 "cells": [
  {
   "cell_type": "code",
   "execution_count": 8,
   "metadata": {},
   "outputs": [],
   "source": [
    "import pandas as pd\n",
    "import mujoco_py\n",
    "import cv2\n",
    "import numpy as np\n",
    "import matplotlib.pyplot as plt\n",
    "import glob\n",
    "\n",
    "from keras.layers import Input, Conv2D, Conv1D, MaxPooling2D, Dense, \\\n",
    "                        Flatten, Dropout, Reshape\n",
    "from keras.models import Model, Sequential\n",
    "from keras import optimizers\n",
    "from keras.regularizers import l1_l2\n",
    "from keras.initializers import Zeros as initZeros"
   ]
  },
  {
   "cell_type": "code",
   "execution_count": 9,
   "metadata": {},
   "outputs": [],
   "source": [
    "def load_128_images_starting(a):\n",
    "    images = []\n",
    "    loc = \"/home/erik/mujocopy_testikas/frames/\"\n",
    "    for i in range(a,a+128):\n",
    "        s = (\"%.4d\" % i) #0200\n",
    "        images += [cv2.imread(loc+\"img_\"+s+\".png\")]\n",
    "    return images"
   ]
  },
  {
   "cell_type": "code",
   "execution_count": 10,
   "metadata": {},
   "outputs": [],
   "source": [
    "# loc = \"/home/erik/mujocopy_testikas/frames\"\n",
    "# images = [cv2.imread(file) for file in glob.glob(loc+\"/*.png\")]\n",
    "# img = cv2.imread(loc+\"/img_0001.png\")\n",
    "# plt.imshow(img)"
   ]
  },
  {
   "cell_type": "code",
   "execution_count": 11,
   "metadata": {},
   "outputs": [],
   "source": [
    "df = pd.read_csv('df.csv')\n",
    "# df = df.drop(index=0)"
   ]
  },
  {
   "cell_type": "code",
   "execution_count": 75,
   "metadata": {},
   "outputs": [],
   "source": [
    "inputs = Input(shape=(480,480,3))\n",
    "# h = Conv2D(filters=3, kernel_size=3, padding=\"same\")(inputs)\n",
    "# h = MaxPooling2D()(h)\n",
    "\n",
    "# h = Conv1D(3,(3))(inputs)\n",
    "# h = Flatten(data_format='channels_last')(inputs)\n",
    "\n",
    "conv = Conv2D(filters=1, kernel_size=1, padding=\"same\", name='conv')(inputs)\n",
    "# # h = Reshape((480,480))(h)\n",
    "h = MaxPooling2D()(conv)\n",
    "\n",
    "h = Conv2D(filters=1, kernel_size=3, padding=\"same\")(h)\n",
    "h = MaxPooling2D()(h)\n",
    "\n",
    "# h = Conv2D(filters=1, kernel_size=3, padding=\"same\")(h)\n",
    "# h = MaxPooling2D()(h)\n",
    "\n",
    "# # h = Conv2D(filters=1, kernel_size=3, padding=\"same\")(h)\n",
    "# h = MaxPooling2D()(h)\n",
    "\n",
    "# # h = Conv2D(filters=1, kernel_size=3, padding=\"same\")(h)\n",
    "# h = MaxPooling2D()(h)\n",
    "\n",
    "h = Flatten()(h)\n",
    "# h = Dense(16, activation='linear', kernel_regularizer=l1_l2(l2=0.1),kernel_initializer=initZeros())(h)\n",
    "# h = Dense(8, kernel_regularizer=l1_l2(l2=0.1),kernel_initializer=initZeros())(h)\n",
    "# h = Dropout(0.33)(h)\n",
    "h = Dense(2, activation='linear', kernel_initializer=initZeros())(h) #, kernel_initializer=initZeros()\n",
    "\n",
    "model = Model(inputs=inputs, outputs=h)\n",
    "model.compile(optimizer='adam',\n",
    "             loss='mean_squared_error')"
   ]
  },
  {
   "cell_type": "code",
   "execution_count": 76,
   "metadata": {},
   "outputs": [
    {
     "name": "stdout",
     "output_type": "stream",
     "text": [
      "_________________________________________________________________\n",
      "Layer (type)                 Output Shape              Param #   \n",
      "=================================================================\n",
      "input_2 (InputLayer)         (None, 480, 480, 3)       0         \n",
      "_________________________________________________________________\n",
      "conv (Conv2D)                (None, 480, 480, 1)       4         \n",
      "_________________________________________________________________\n",
      "max_pooling2d_4 (MaxPooling2 (None, 240, 240, 1)       0         \n",
      "_________________________________________________________________\n",
      "conv2d_2 (Conv2D)            (None, 240, 240, 1)       10        \n",
      "_________________________________________________________________\n",
      "max_pooling2d_5 (MaxPooling2 (None, 120, 120, 1)       0         \n",
      "_________________________________________________________________\n",
      "flatten_2 (Flatten)          (None, 14400)             0         \n",
      "_________________________________________________________________\n",
      "dense_2 (Dense)              (None, 2)                 28802     \n",
      "=================================================================\n",
      "Total params: 28,816\n",
      "Trainable params: 28,816\n",
      "Non-trainable params: 0\n",
      "_________________________________________________________________\n"
     ]
    }
   ],
   "source": [
    "model.summary()"
   ]
  },
  {
   "cell_type": "code",
   "execution_count": 77,
   "metadata": {},
   "outputs": [],
   "source": [
    "good_filter = np.array([[[[-0.03846514],\n",
    "         [ 0.02321649],\n",
    "         [ 0.8732823 ]]]], dtype=np.float32)\n",
    "init = [good_filter, np.array([0], dtype=np.float32)]\n",
    "model.get_layer(name='conv').set_weights(init)"
   ]
  },
  {
   "cell_type": "code",
   "execution_count": 78,
   "metadata": {},
   "outputs": [],
   "source": [
    "# p = model.predict(X)\n",
    "# a = np.zeros((60,60,3))\n",
    "# a[:,:,0] = np.reshape(p[0], (60,60))\n",
    "# a[:,:,1] = np.reshape(p[0], (60,60))\n",
    "# a[:,:,2] = np.reshape(p[0], (60,60))\n",
    "# fig = plt.imshow(a)"
   ]
  },
  {
   "cell_type": "code",
   "execution_count": 79,
   "metadata": {},
   "outputs": [],
   "source": [
    "# plt.imshow(X[0])"
   ]
  },
  {
   "cell_type": "code",
   "execution_count": 80,
   "metadata": {},
   "outputs": [],
   "source": [
    "X = np.array(load_128_images_starting(0))\n",
    "Y = df.iloc[0:128,:2]"
   ]
  },
  {
   "cell_type": "code",
   "execution_count": 81,
   "metadata": {},
   "outputs": [
    {
     "data": {
      "text/plain": [
       "<keras.callbacks.History at 0x7f6d50299358>"
      ]
     },
     "execution_count": 81,
     "metadata": {},
     "output_type": "execute_result"
    }
   ],
   "source": [
    "model.fit(X,Y,verbose=False)"
   ]
  },
  {
   "cell_type": "code",
   "execution_count": 82,
   "metadata": {},
   "outputs": [
    {
     "data": {
      "text/plain": [
       "[14689.363198108971]"
      ]
     },
     "execution_count": 82,
     "metadata": {},
     "output_type": "execute_result"
    }
   ],
   "source": [
    "model.history.history['loss']"
   ]
  },
  {
   "cell_type": "code",
   "execution_count": 83,
   "metadata": {},
   "outputs": [
    {
     "data": {
      "text/plain": [
       "array([[ 163.8936 , -163.89273],\n",
       "       [ 163.8936 , -163.89273],\n",
       "       [ 163.94783, -163.94696],\n",
       "       [ 163.88235, -163.88145],\n",
       "       [ 163.78297, -163.78207]], dtype=float32)"
      ]
     },
     "execution_count": 83,
     "metadata": {},
     "output_type": "execute_result"
    }
   ],
   "source": [
    "model.predict(X)[0:5]"
   ]
  },
  {
   "cell_type": "code",
   "execution_count": 84,
   "metadata": {},
   "outputs": [],
   "source": [
    "# i = 0\n",
    "# X = np.array(load_128_images_starting(i))[:,:,:,::-1]\n",
    "# Y = df.iloc[i:i+128,:2]\n",
    "# assert X.shape[0] == Y.shape[0]\n",
    "# model.fit(X,Y,verbose=False)\n",
    "# # c += 1\n",
    "# losses += model.history.history['loss']\n",
    "# print(\"avg loss: %.4f\" % np.mean(losses))"
   ]
  },
  {
   "cell_type": "code",
   "execution_count": 115,
   "metadata": {},
   "outputs": [],
   "source": [
    "losses = []"
   ]
  },
  {
   "cell_type": "code",
   "execution_count": 116,
   "metadata": {
    "scrolled": true
   },
   "outputs": [
    {
     "name": "stdout",
     "output_type": "stream",
     "text": [
      "loop:  0\n",
      "avg loss: 0.0190 last loss: 0.0190\n",
      "avg loss: 0.0202 last loss: 0.0070\n",
      "avg loss: 0.0708 last loss: 0.1932\n",
      "avg loss: 0.1053 last loss: 0.3066\n",
      "avg loss: 0.1481 last loss: 0.0592\n",
      "avg loss: 0.2429 last loss: 0.3246\n",
      "avg loss: 0.3322 last loss: 0.4632\n",
      "avg loss: 0.3611 last loss: 0.7341\n",
      "avg loss: 0.3756 last loss: 0.1053\n",
      "avg loss: 0.3643 last loss: 0.2179\n",
      "avg loss: 0.3663 last loss: 0.2523\n",
      "avg loss: 0.3877 last loss: 0.3403\n",
      "avg loss: 0.4440 last loss: 1.8182\n",
      "avg loss: 0.5034 last loss: 0.3429\n",
      "avg loss: 0.5368 last loss: 0.8543\n",
      "avg loss: 0.5203 last loss: 0.1662\n",
      "avg loss: 0.5024 last loss: 0.1074\n",
      "avg loss: 0.4875 last loss: 0.7130\n",
      "avg loss: 0.5962 last loss: 1.7076\n",
      "avg loss: 0.5843 last loss: 0.3997\n",
      "avg loss: 0.5861 last loss: 0.0885\n",
      "avg loss: 0.5881 last loss: 0.9105\n",
      "avg loss: 0.5760 last loss: 0.1185\n",
      "avg loss: 0.5573 last loss: 0.0476\n",
      "avg loss: 0.5486 last loss: 0.3254\n",
      "avg loss: 0.5517 last loss: 0.4336\n",
      "avg loss: 0.5777 last loss: 1.6315\n",
      "avg loss: 0.6817 last loss: 0.2733\n",
      "avg loss: 0.6882 last loss: 0.9333\n",
      "avg loss: 0.6770 last loss: 0.1549\n",
      "avg loss: 0.6743 last loss: 0.1587\n",
      "avg loss: 0.6630 last loss: 0.7894\n",
      "avg loss: 0.7521 last loss: 1.1432\n",
      "avg loss: 0.7386 last loss: 0.2927\n",
      "avg loss: 0.7479 last loss: 0.0798\n",
      "avg loss: 0.7629 last loss: 1.8278\n",
      "avg loss: 0.7462 last loss: 0.2929\n",
      "avg loss: 0.7307 last loss: 0.1735\n",
      "avg loss: 0.7258 last loss: 0.1820\n",
      "avg loss: 0.7359 last loss: 1.0940\n",
      "avg loss: 0.7423 last loss: 0.5348\n",
      "avg loss: 0.7777 last loss: 0.2554\n",
      "avg loss: 0.7758 last loss: 0.6464\n",
      "avg loss: 0.7665 last loss: 0.0767\n",
      "avg loss: 0.7626 last loss: 0.2589\n",
      "avg loss: 0.7539 last loss: 1.1842\n",
      "avg loss: 0.7747 last loss: 0.9025\n",
      "avg loss: 0.7629 last loss: 0.0985\n",
      "avg loss: 0.8099 last loss: 0.1068\n",
      "avg loss: 0.8292 last loss: 4.0505\n",
      "avg loss: 0.8185 last loss: 0.0735\n",
      "avg loss: 0.8077 last loss: 0.0309\n",
      "avg loss: 0.7976 last loss: 0.2866\n",
      "avg loss: 0.8342 last loss: 0.3614\n",
      "avg loss: 0.8391 last loss: 1.0752\n",
      "avg loss: 0.8383 last loss: 0.0693\n",
      "avg loss: 0.8280 last loss: 0.3336\n",
      "avg loss: 0.8219 last loss: 0.1214\n",
      "avg loss: 0.8143 last loss: 0.0568\n",
      "avg loss: 0.8101 last loss: 1.2103\n",
      "avg loss: 0.8178 last loss: 0.1674\n",
      "avg loss: 0.8124 last loss: 0.2235\n",
      "avg loss: 0.9811 last loss: 0.2842\n",
      "avg loss: 1.0021 last loss: 6.6559\n",
      "avg loss: 0.9910 last loss: 0.2635\n",
      "avg loss: 0.9859 last loss: 0.1732\n",
      "avg loss: 0.9754 last loss: 0.3938\n",
      "avg loss: 1.0655 last loss: 1.7090\n",
      "avg loss: 1.0611 last loss: 0.1193\n",
      "avg loss: 1.0680 last loss: 0.7897\n",
      "avg loss: 1.0568 last loss: 0.1557\n",
      "avg loss: 1.0480 last loss: 0.1585\n",
      "avg loss: 1.0369 last loss: 0.2737\n",
      "avg loss: 1.0422 last loss: 1.1283\n",
      "avg loss: 1.0508 last loss: 0.0566\n",
      "avg loss: 1.0423 last loss: 0.1890\n",
      "avg loss: 1.2403 last loss: 0.1031\n",
      "avg loss: 1.2588 last loss: 10.4582\n",
      "avg loss: 1.2513 last loss: 0.3245\n",
      "avg loss: 1.2517 last loss: 0.3806\n",
      "avg loss: 1.2391 last loss: 0.4727\n",
      "avg loss: 1.2797 last loss: 0.2420\n",
      "avg loss: 1.2722 last loss: 0.4019\n",
      "avg loss: 1.3195 last loss: 0.2743\n",
      "avg loss: 1.3054 last loss: 0.1343\n",
      "avg loss: 1.2976 last loss: 0.3516\n",
      "avg loss: 1.2857 last loss: 0.0836\n",
      "avg loss: 1.2852 last loss: 0.7216\n",
      "avg loss: 1.3394 last loss: 1.0376\n",
      "avg loss: 1.3392 last loss: 0.2354\n",
      "avg loss: 1.4499 last loss: 0.3020\n",
      "avg loss: 1.4920 last loss: 23.2198\n",
      "avg loss: 1.4887 last loss: 0.3601\n",
      "avg loss: 1.5001 last loss: 0.0520\n",
      "avg loss: 1.4894 last loss: 1.4461\n",
      "avg loss: 1.4946 last loss: 0.3214\n",
      "avg loss: 1.4831 last loss: 0.3201\n",
      "avg loss: 1.5076 last loss: 2.2043\n",
      "avg loss: 1.4964 last loss: 0.2027\n",
      "avg loss: 1.4908 last loss: 1.1542\n",
      "avg loss: 1.4799 last loss: 0.4557\n",
      "avg loss: 1.4897 last loss: 1.3829\n",
      "avg loss: 1.4897 last loss: 0.1996\n",
      "avg loss: 1.4785 last loss: 0.1121\n",
      "avg loss: 1.5243 last loss: 0.1174\n",
      "avg loss: 1.5561 last loss: 23.4988\n",
      "avg loss: 1.5627 last loss: 0.3549\n",
      "avg loss: 1.5632 last loss: 0.1242\n",
      "avg loss: 1.5543 last loss: 2.7220\n",
      "avg loss: 1.5581 last loss: 0.8478\n",
      "avg loss: 1.5463 last loss: 0.0695\n",
      "avg loss: 1.5475 last loss: 0.0969\n",
      "avg loss: 1.5349 last loss: 0.2266\n",
      "avg loss: 1.5356 last loss: 2.0412\n",
      "avg loss: 1.5254 last loss: 0.0387\n",
      "avg loss: 1.5465 last loss: 0.7595\n",
      "avg loss: 1.5417 last loss: 0.1248\n",
      "avg loss: 1.5306 last loss: 0.0989\n",
      "avg loss: 1.5506 last loss: 0.1133\n",
      "avg loss: 1.5572 last loss: 10.2587\n",
      "avg loss: 1.5645 last loss: 0.3544\n",
      "avg loss: 1.5737 last loss: 1.5047\n",
      "avg loss: 1.5677 last loss: 3.4691\n",
      "avg loss: 1.5777 last loss: 0.8340\n",
      "avg loss: 1.5732 last loss: 0.8241\n",
      "avg loss: 1.5751 last loss: 0.7830\n",
      "avg loss: 1.5644 last loss: 0.1202\n",
      "avg loss: 1.5670 last loss: 3.5833\n",
      "avg loss: 1.5581 last loss: 0.3245\n",
      "avg loss: 1.5592 last loss: 0.4237\n",
      "avg loss: 1.5567 last loss: 0.3475\n",
      "avg loss: 1.5461 last loss: 0.1284\n",
      "avg loss: 1.5554 last loss: 0.0726\n",
      "avg loss: 1.5482 last loss: 2.1973\n",
      "avg loss: 1.5540 last loss: 0.6684\n",
      "avg loss: 1.5656 last loss: 0.5992\n",
      "avg loss: 1.5620 last loss: 4.0122\n",
      "avg loss: 1.5732 last loss: 1.1386\n",
      "avg loss: 1.5651 last loss: 0.0258\n",
      "avg loss: 1.5717 last loss: 0.7382\n",
      "loop:  10\n",
      "avg loss: 1.5639 last loss: 0.2421\n",
      "avg loss: 1.5686 last loss: 3.2986\n",
      "avg loss: 1.5649 last loss: 0.0802\n",
      "avg loss: 1.5732 last loss: 0.4944\n",
      "avg loss: 1.5776 last loss: 1.5175\n",
      "avg loss: 1.5677 last loss: 0.1591\n",
      "avg loss: 1.5755 last loss: 0.0805\n",
      "avg loss: 1.5701 last loss: 2.5721\n",
      "avg loss: 1.5753 last loss: 1.1690\n",
      "avg loss: 1.5751 last loss: 0.3950\n",
      "avg loss: 1.5732 last loss: 5.3123\n",
      "avg loss: 1.5756 last loss: 0.2362\n",
      "avg loss: 1.5688 last loss: 0.6398\n",
      "avg loss: 1.5740 last loss: 0.1078\n",
      "avg loss: 1.5659 last loss: 0.1335\n",
      "avg loss: 1.5655 last loss: 2.4365\n",
      "avg loss: 1.5588 last loss: 0.2803\n",
      "avg loss: 1.5596 last loss: 0.1858\n",
      "avg loss: 1.5714 last loss: 0.3784\n",
      "avg loss: 1.5633 last loss: 0.0963\n",
      "avg loss: 1.5693 last loss: 0.0957\n",
      "avg loss: 1.5679 last loss: 6.0537\n",
      "avg loss: 1.5741 last loss: 1.5987\n",
      "avg loss: 1.5794 last loss: 0.4628\n",
      "avg loss: 1.5757 last loss: 3.9430\n",
      "avg loss: 1.5717 last loss: 0.1192\n",
      "avg loss: 1.5633 last loss: 0.2644\n",
      "avg loss: 1.5684 last loss: 0.2642\n",
      "avg loss: 1.5628 last loss: 0.2423\n",
      "avg loss: 1.5616 last loss: 2.1765\n",
      "avg loss: 1.5574 last loss: 0.0712\n",
      "avg loss: 1.5624 last loss: 0.2098\n",
      "avg loss: 1.5679 last loss: 2.3823\n",
      "avg loss: 1.5598 last loss: 0.0816\n",
      "avg loss: 1.5705 last loss: 0.6098\n",
      "avg loss: 1.5726 last loss: 7.7733\n",
      "avg loss: 1.5779 last loss: 4.3526\n",
      "avg loss: 1.5785 last loss: 1.0203\n",
      "avg loss: 1.5751 last loss: 3.0450\n",
      "avg loss: 1.5692 last loss: 0.1976\n",
      "avg loss: 1.5617 last loss: 0.3955\n",
      "avg loss: 1.5580 last loss: 0.1598\n",
      "avg loss: 1.5505 last loss: 0.1024\n",
      "avg loss: 1.5482 last loss: 1.5848\n",
      "avg loss: 1.5442 last loss: 0.7010\n",
      "avg loss: 1.5468 last loss: 0.7198\n",
      "avg loss: 1.5431 last loss: 0.1249\n",
      "avg loss: 1.5357 last loss: 0.1146\n",
      "avg loss: 1.5452 last loss: 0.5904\n",
      "avg loss: 1.5443 last loss: 6.4215\n",
      "avg loss: 1.5468 last loss: 3.4272\n",
      "avg loss: 1.5444 last loss: 1.1295\n",
      "avg loss: 1.5418 last loss: 3.9666\n",
      "avg loss: 1.5365 last loss: 0.1258\n",
      "avg loss: 1.5301 last loss: 0.3043\n",
      "avg loss: 1.5245 last loss: 0.1477\n",
      "avg loss: 1.5177 last loss: 0.1239\n",
      "avg loss: 1.5160 last loss: 1.8545\n",
      "avg loss: 1.5110 last loss: 0.0960\n",
      "avg loss: 1.5060 last loss: 0.2508\n",
      "avg loss: 1.5017 last loss: 0.0769\n",
      "avg loss: 1.4957 last loss: 0.1408\n",
      "avg loss: 1.5032 last loss: 0.4551\n",
      "avg loss: 1.5005 last loss: 3.2285\n",
      "avg loss: 1.4983 last loss: 1.4445\n",
      "avg loss: 1.4971 last loss: 1.3447\n",
      "avg loss: 1.4925 last loss: 1.4371\n",
      "avg loss: 1.4875 last loss: 0.3164\n",
      "avg loss: 1.4817 last loss: 0.2841\n",
      "avg loss: 1.4790 last loss: 1.1445\n",
      "avg loss: 1.4734 last loss: 0.2329\n",
      "avg loss: 1.4732 last loss: 2.1174\n",
      "avg loss: 1.4694 last loss: 0.8620\n",
      "avg loss: 1.4657 last loss: 0.2161\n",
      "avg loss: 1.4629 last loss: 0.1724\n",
      "avg loss: 1.4582 last loss: 0.0954\n",
      "avg loss: 1.4653 last loss: 0.1347\n",
      "avg loss: 1.4602 last loss: 1.0735\n",
      "avg loss: 1.4578 last loss: 1.2664\n",
      "avg loss: 1.4533 last loss: 0.5145\n",
      "avg loss: 1.4482 last loss: 1.1333\n",
      "avg loss: 1.4430 last loss: 0.1306\n",
      "avg loss: 1.4377 last loss: 0.2997\n",
      "avg loss: 1.4390 last loss: 0.5642\n",
      "avg loss: 1.4336 last loss: 0.2237\n",
      "avg loss: 1.4331 last loss: 2.2121\n",
      "avg loss: 1.4290 last loss: 0.0345\n",
      "avg loss: 1.4254 last loss: 0.3214\n",
      "avg loss: 1.4298 last loss: 0.4398\n",
      "avg loss: 1.4261 last loss: 0.2120\n",
      "avg loss: 1.4359 last loss: 0.2593\n",
      "avg loss: 1.4319 last loss: 0.7953\n",
      "avg loss: 1.4292 last loss: 0.6893\n",
      "avg loss: 1.4253 last loss: 0.2262\n"
     ]
    },
    {
     "name": "stdout",
     "output_type": "stream",
     "text": [
      "avg loss: 1.4216 last loss: 2.1587\n",
      "avg loss: 1.4165 last loss: 0.1543\n",
      "avg loss: 1.4116 last loss: 0.2605\n",
      "avg loss: 1.4114 last loss: 1.1444\n",
      "avg loss: 1.4064 last loss: 0.2171\n",
      "avg loss: 1.4055 last loss: 2.0467\n",
      "avg loss: 1.4019 last loss: 0.3658\n",
      "avg loss: 1.3985 last loss: 0.3713\n",
      "avg loss: 1.3960 last loss: 0.2686\n",
      "avg loss: 1.3909 last loss: 0.1098\n",
      "avg loss: 1.4011 last loss: 0.6361\n",
      "avg loss: 1.3966 last loss: 0.7343\n",
      "avg loss: 1.3947 last loss: 0.6343\n",
      "avg loss: 1.3908 last loss: 0.2096\n",
      "avg loss: 1.3870 last loss: 1.7850\n",
      "avg loss: 1.3824 last loss: 0.1323\n",
      "avg loss: 1.3774 last loss: 0.0714\n",
      "avg loss: 1.3740 last loss: 0.0651\n",
      "avg loss: 1.3691 last loss: 0.1249\n",
      "avg loss: 1.3668 last loss: 1.2249\n",
      "avg loss: 1.3628 last loss: 0.0342\n",
      "avg loss: 1.3610 last loss: 0.1378\n",
      "avg loss: 1.3587 last loss: 0.4527\n",
      "avg loss: 1.3540 last loss: 0.0727\n",
      "avg loss: 1.3610 last loss: 0.5499\n",
      "avg loss: 1.3576 last loss: 0.4678\n",
      "avg loss: 1.3561 last loss: 0.4281\n",
      "avg loss: 1.3537 last loss: 1.3378\n",
      "avg loss: 1.3502 last loss: 1.6752\n",
      "avg loss: 1.3477 last loss: 0.3886\n",
      "avg loss: 1.3446 last loss: 0.6508\n",
      "avg loss: 1.3425 last loss: 0.4200\n",
      "avg loss: 1.3381 last loss: 0.1287\n",
      "avg loss: 1.3352 last loss: 0.9538\n",
      "avg loss: 1.3313 last loss: 0.1328\n",
      "avg loss: 1.3290 last loss: 0.0985\n",
      "avg loss: 1.3281 last loss: 0.2596\n",
      "avg loss: 1.3241 last loss: 0.2906\n",
      "avg loss: 1.3281 last loss: 0.9039\n",
      "avg loss: 1.3254 last loss: 1.1348\n",
      "avg loss: 1.3247 last loss: 1.0393\n",
      "avg loss: 1.3221 last loss: 1.1557\n",
      "avg loss: 1.3193 last loss: 1.7036\n",
      "avg loss: 1.3176 last loss: 0.0817\n",
      "avg loss: 1.3143 last loss: 0.0552\n",
      "avg loss: 1.3130 last loss: 0.2427\n",
      "loop:  20\n",
      "avg loss: 1.3092 last loss: 0.1513\n",
      "avg loss: 1.3059 last loss: 0.6176\n",
      "avg loss: 1.3022 last loss: 0.0359\n",
      "avg loss: 1.2994 last loss: 0.1838\n",
      "avg loss: 1.2987 last loss: 1.2047\n",
      "avg loss: 1.2951 last loss: 0.1066\n",
      "avg loss: 1.2966 last loss: 0.2353\n",
      "avg loss: 1.3020 last loss: 11.3717\n",
      "avg loss: 1.3025 last loss: 0.9364\n",
      "avg loss: 1.2995 last loss: 0.5013\n",
      "avg loss: 1.2969 last loss: 1.2355\n",
      "avg loss: 1.2960 last loss: 0.1090\n",
      "avg loss: 1.2923 last loss: 0.0788\n",
      "avg loss: 1.2898 last loss: 0.2685\n",
      "avg loss: 1.2860 last loss: 0.1034\n",
      "avg loss: 1.2826 last loss: 0.3293\n",
      "avg loss: 1.2787 last loss: 0.0981\n",
      "avg loss: 1.2764 last loss: 0.2780\n",
      "avg loss: 1.2736 last loss: 0.0724\n",
      "avg loss: 1.2711 last loss: 0.3874\n",
      "avg loss: 1.2712 last loss: 0.6001\n",
      "avg loss: 1.2733 last loss: 8.3107\n",
      "avg loss: 1.2742 last loss: 0.4202\n",
      "avg loss: 1.2715 last loss: 0.3804\n",
      "avg loss: 1.2683 last loss: 0.4612\n",
      "avg loss: 1.2656 last loss: 0.2197\n",
      "avg loss: 1.2623 last loss: 0.2205\n",
      "avg loss: 1.2604 last loss: 0.3153\n",
      "avg loss: 1.2567 last loss: 0.0756\n",
      "avg loss: 1.2536 last loss: 0.2226\n",
      "avg loss: 1.2501 last loss: 0.0649\n",
      "avg loss: 1.2481 last loss: 0.3116\n",
      "avg loss: 1.2453 last loss: 0.2463\n",
      "avg loss: 1.2430 last loss: 0.1516\n",
      "avg loss: 1.2409 last loss: 0.2098\n",
      "avg loss: 1.2391 last loss: 2.0035\n",
      "avg loss: 1.2396 last loss: 1.1644\n",
      "avg loss: 1.2373 last loss: 0.7222\n",
      "avg loss: 1.2341 last loss: 0.5094\n",
      "avg loss: 1.2319 last loss: 0.2002\n"
     ]
    },
    {
     "ename": "KeyboardInterrupt",
     "evalue": "",
     "output_type": "error",
     "traceback": [
      "\u001b[0;31m---------------------------------------------------------------------------\u001b[0m",
      "\u001b[0;31mKeyboardInterrupt\u001b[0m                         Traceback (most recent call last)",
      "\u001b[0;32m<ipython-input-116-765f1ad8d11c>\u001b[0m in \u001b[0;36m<module>\u001b[0;34m\u001b[0m\n\u001b[1;32m      4\u001b[0m \u001b[0;31m#     for i in np.arange(1,8872, 128): #9000+ on testimiseks\u001b[0m\u001b[0;34m\u001b[0m\u001b[0;34m\u001b[0m\u001b[0;34m\u001b[0m\u001b[0m\n\u001b[1;32m      5\u001b[0m     \u001b[0;32mfor\u001b[0m \u001b[0mi\u001b[0m \u001b[0;32min\u001b[0m \u001b[0mnp\u001b[0m\u001b[0;34m.\u001b[0m\u001b[0marange\u001b[0m\u001b[0;34m(\u001b[0m\u001b[0;36m1\u001b[0m\u001b[0;34m,\u001b[0m\u001b[0;36m8880\u001b[0m\u001b[0;34m,\u001b[0m \u001b[0;36m128\u001b[0m\u001b[0;34m)\u001b[0m\u001b[0;34m:\u001b[0m \u001b[0;31m#9000+ on testimiseks\u001b[0m\u001b[0;34m\u001b[0m\u001b[0;34m\u001b[0m\u001b[0m\n\u001b[0;32m----> 6\u001b[0;31m         \u001b[0mX\u001b[0m \u001b[0;34m=\u001b[0m \u001b[0mnp\u001b[0m\u001b[0;34m.\u001b[0m\u001b[0marray\u001b[0m\u001b[0;34m(\u001b[0m\u001b[0mload_128_images_starting\u001b[0m\u001b[0;34m(\u001b[0m\u001b[0mi\u001b[0m\u001b[0;34m)\u001b[0m\u001b[0;34m)\u001b[0m\u001b[0;34m[\u001b[0m\u001b[0;34m:\u001b[0m\u001b[0;34m,\u001b[0m\u001b[0;34m:\u001b[0m\u001b[0;34m,\u001b[0m\u001b[0;34m:\u001b[0m\u001b[0;34m,\u001b[0m\u001b[0;34m:\u001b[0m\u001b[0;34m:\u001b[0m\u001b[0;34m-\u001b[0m\u001b[0;36m1\u001b[0m\u001b[0;34m]\u001b[0m\u001b[0;34m\u001b[0m\u001b[0;34m\u001b[0m\u001b[0m\n\u001b[0m\u001b[1;32m      7\u001b[0m         \u001b[0mY\u001b[0m \u001b[0;34m=\u001b[0m \u001b[0mdf\u001b[0m\u001b[0;34m.\u001b[0m\u001b[0miloc\u001b[0m\u001b[0;34m[\u001b[0m\u001b[0mi\u001b[0m\u001b[0;34m-\u001b[0m\u001b[0;36m1\u001b[0m\u001b[0;34m:\u001b[0m\u001b[0mi\u001b[0m\u001b[0;34m+\u001b[0m\u001b[0;36m127\u001b[0m\u001b[0;34m,\u001b[0m\u001b[0;34m:\u001b[0m\u001b[0;36m2\u001b[0m\u001b[0;34m]\u001b[0m\u001b[0;34m\u001b[0m\u001b[0;34m\u001b[0m\u001b[0m\n\u001b[1;32m      8\u001b[0m         \u001b[0;32massert\u001b[0m \u001b[0mX\u001b[0m\u001b[0;34m.\u001b[0m\u001b[0mshape\u001b[0m\u001b[0;34m[\u001b[0m\u001b[0;36m0\u001b[0m\u001b[0;34m]\u001b[0m \u001b[0;34m==\u001b[0m \u001b[0mY\u001b[0m\u001b[0;34m.\u001b[0m\u001b[0mshape\u001b[0m\u001b[0;34m[\u001b[0m\u001b[0;36m0\u001b[0m\u001b[0;34m]\u001b[0m\u001b[0;34m\u001b[0m\u001b[0;34m\u001b[0m\u001b[0m\n",
      "\u001b[0;32m<ipython-input-9-9ceedd9dced9>\u001b[0m in \u001b[0;36mload_128_images_starting\u001b[0;34m(a)\u001b[0m\n\u001b[1;32m      4\u001b[0m     \u001b[0;32mfor\u001b[0m \u001b[0mi\u001b[0m \u001b[0;32min\u001b[0m \u001b[0mrange\u001b[0m\u001b[0;34m(\u001b[0m\u001b[0ma\u001b[0m\u001b[0;34m,\u001b[0m\u001b[0ma\u001b[0m\u001b[0;34m+\u001b[0m\u001b[0;36m128\u001b[0m\u001b[0;34m)\u001b[0m\u001b[0;34m:\u001b[0m\u001b[0;34m\u001b[0m\u001b[0;34m\u001b[0m\u001b[0m\n\u001b[1;32m      5\u001b[0m         \u001b[0ms\u001b[0m \u001b[0;34m=\u001b[0m \u001b[0;34m(\u001b[0m\u001b[0;34m\"%.4d\"\u001b[0m \u001b[0;34m%\u001b[0m \u001b[0mi\u001b[0m\u001b[0;34m)\u001b[0m \u001b[0;31m#0200\u001b[0m\u001b[0;34m\u001b[0m\u001b[0;34m\u001b[0m\u001b[0m\n\u001b[0;32m----> 6\u001b[0;31m         \u001b[0mimages\u001b[0m \u001b[0;34m+=\u001b[0m \u001b[0;34m[\u001b[0m\u001b[0mcv2\u001b[0m\u001b[0;34m.\u001b[0m\u001b[0mimread\u001b[0m\u001b[0;34m(\u001b[0m\u001b[0mloc\u001b[0m\u001b[0;34m+\u001b[0m\u001b[0;34m\"img_\"\u001b[0m\u001b[0;34m+\u001b[0m\u001b[0ms\u001b[0m\u001b[0;34m+\u001b[0m\u001b[0;34m\".png\"\u001b[0m\u001b[0;34m)\u001b[0m\u001b[0;34m]\u001b[0m\u001b[0;34m\u001b[0m\u001b[0;34m\u001b[0m\u001b[0m\n\u001b[0m\u001b[1;32m      7\u001b[0m     \u001b[0;32mreturn\u001b[0m \u001b[0mimages\u001b[0m\u001b[0;34m\u001b[0m\u001b[0;34m\u001b[0m\u001b[0m\n",
      "\u001b[0;31mKeyboardInterrupt\u001b[0m: "
     ]
    }
   ],
   "source": [
    "c = 0\n",
    "for j in range(100):\n",
    "    if j % 10 == 0: print(\"loop: \", j)\n",
    "#     for i in np.arange(1,8872, 128): #9000+ on testimiseks\n",
    "    for i in np.arange(1,8880, 128): #9000+ on testimiseks\n",
    "        X = np.array(load_128_images_starting(i))[:,:,:,::-1]\n",
    "        Y = df.iloc[i-1:i+127,:2]\n",
    "        assert X.shape[0] == Y.shape[0]\n",
    "        model.fit(X,Y,verbose=False)\n",
    "        if c % 5 == 1:\n",
    "    #         print(X.shape, Y.iloc[0])\n",
    "            print(\"avg loss: %.4f\" % np.mean(losses), end=' ')\n",
    "            print(\"last loss: %.4f\" % losses[-1])\n",
    "        c += 1\n",
    "        losses += model.history.history['loss']"
   ]
  },
  {
   "cell_type": "code",
   "execution_count": 98,
   "metadata": {},
   "outputs": [],
   "source": [
    "def save_model(model, model_str):\n",
    "    model_json = model.to_json()\n",
    "    with open('models/'+model_str+\".json\", \"w\") as json_file:\n",
    "        json_file.write(model_json)\n",
    "    # serialize weights to HDF5\n",
    "    model.save_weights('models/'+model_str+\".h5\")\n",
    "    print(\"Saved model to disk\")"
   ]
  },
  {
   "cell_type": "code",
   "execution_count": 120,
   "metadata": {},
   "outputs": [],
   "source": [
    "img = cv2.imread(\"/home/erik/mujocopy_testikas/frames/img_0501.png\")"
   ]
  },
  {
   "cell_type": "code",
   "execution_count": 121,
   "metadata": {},
   "outputs": [],
   "source": [
    "X = np.array([img])"
   ]
  },
  {
   "cell_type": "code",
   "execution_count": 122,
   "metadata": {},
   "outputs": [],
   "source": [
    "p = model.predict(X)[0]"
   ]
  },
  {
   "cell_type": "code",
   "execution_count": 123,
   "metadata": {},
   "outputs": [],
   "source": [
    "y = df.iloc[501][:2]"
   ]
  },
  {
   "cell_type": "code",
   "execution_count": 124,
   "metadata": {},
   "outputs": [
    {
     "data": {
      "text/plain": [
       "0.3375186712748937"
      ]
     },
     "execution_count": 124,
     "metadata": {},
     "output_type": "execute_result"
    }
   ],
   "source": [
    "np.sqrt(np.mean((p-y)**2))"
   ]
  },
  {
   "cell_type": "code",
   "execution_count": 125,
   "metadata": {},
   "outputs": [
    {
     "data": {
      "text/plain": [
       "array([-0.09305898,  0.41702315], dtype=float32)"
      ]
     },
     "execution_count": 125,
     "metadata": {},
     "output_type": "execute_result"
    }
   ],
   "source": [
    "p"
   ]
  },
  {
   "cell_type": "code",
   "execution_count": 126,
   "metadata": {},
   "outputs": [
    {
     "data": {
      "text/plain": [
       "x   -0.564542\n",
       "y    0.491461\n",
       "Name: 501, dtype: float64"
      ]
     },
     "execution_count": 126,
     "metadata": {},
     "output_type": "execute_result"
    }
   ],
   "source": [
    "y"
   ]
  },
  {
   "cell_type": "code",
   "execution_count": 127,
   "metadata": {},
   "outputs": [],
   "source": [
    "import time"
   ]
  },
  {
   "cell_type": "code",
   "execution_count": 130,
   "metadata": {},
   "outputs": [],
   "source": [
    "import datetime"
   ]
  },
  {
   "cell_type": "code",
   "execution_count": 141,
   "metadata": {},
   "outputs": [
    {
     "data": {
      "text/plain": [
       "'model_2019-05-27_17:33:44.251793'"
      ]
     },
     "execution_count": 141,
     "metadata": {},
     "output_type": "execute_result"
    }
   ],
   "source": [
    "\"model_\"+str(datetime.datetime.now()).replace(' ','_')"
   ]
  },
  {
   "cell_type": "code",
   "execution_count": 138,
   "metadata": {},
   "outputs": [
    {
     "data": {
      "text/plain": [
       "'2019-05-27 17:31:05.503639'"
      ]
     },
     "execution_count": 138,
     "metadata": {},
     "output_type": "execute_result"
    }
   ],
   "source": [
    "str(a)"
   ]
  },
  {
   "cell_type": "code",
   "execution_count": null,
   "metadata": {},
   "outputs": [],
   "source": [
    "KeyboardInterrupt"
   ]
  }
 ],
 "metadata": {
  "kernelspec": {
   "display_name": "Python 3",
   "language": "python",
   "name": "python3"
  },
  "language_info": {
   "codemirror_mode": {
    "name": "ipython",
    "version": 3
   },
   "file_extension": ".py",
   "mimetype": "text/x-python",
   "name": "python",
   "nbconvert_exporter": "python",
   "pygments_lexer": "ipython3",
   "version": "3.6.8"
  }
 },
 "nbformat": 4,
 "nbformat_minor": 2
}
