{
 "cells": [
  {
   "cell_type": "code",
   "execution_count": 24,
   "metadata": {},
   "outputs": [],
   "source": [
    "import pandas as pd\n",
    "import mujoco_py\n",
    "import cv2\n",
    "import numpy as np\n",
    "import matplotlib.pyplot as plt\n",
    "import glob\n",
    "\n",
    "from keras.layers import Input, Conv2D, Conv1D, MaxPooling2D, Dense, \\\n",
    "                        Flatten, Dropout, Reshape\n",
    "from keras.models import Model, Sequential\n",
    "from keras import optimizers\n",
    "from keras.regularizers import l1_l2\n",
    "from keras.initializers import Zeros as initZeros\n",
    "\n",
    "from keras.models import load_model\n",
    "from keras.models import model_from_json\n",
    "import datetime\n",
    "import sys\n",
    "from sklearn.metrics import mean_squared_error as mse\n",
    "from keras.losses import mean_squared_error"
   ]
  },
  {
   "cell_type": "code",
   "execution_count": 27,
   "metadata": {},
   "outputs": [],
   "source": [
    "def open_and_load(string):\n",
    "    \"\"\"Open model and load weights\"\"\"\n",
    "    with open(string+'.json', 'r') as f:\n",
    "        model = model_from_json(f.read())\n",
    "    model.load_weights(string+'.h5')\n",
    "    return model\n",
    "\n",
    "def load_128_images_starting(a):\n",
    "    \"\"\"Loads 128 images starting with a. Loading all images crashes.\"\"\"\n",
    "    images = []\n",
    "    loc = \"/home/erik/mujocopy_testikas/frames/\"\n",
    "    for i in range(a,a+128):\n",
    "        s = (\"%.4d\" % i) #0200\n",
    "        images += [cv2.imread(loc+\"img_\"+s+\".png\")]\n",
    "    return images\n",
    "\n",
    "def save_model(model, model_str):\n",
    "    \"\"\"Saves model with weights.\"\"\"\n",
    "    model_json = model.to_json()\n",
    "    with open('models/'+model_str+\".json\", \"w\") as json_file:\n",
    "        json_file.write(model_json)\n",
    "    # serialize weights to HDF5\n",
    "    model.save_weights('models/'+model_str+\".h5\")\n",
    "    print(\"Saved model to disk, name: \", model_str)\n",
    "\n",
    "df = pd.read_csv('df.csv')"
   ]
  },
  {
   "cell_type": "code",
   "execution_count": 28,
   "metadata": {},
   "outputs": [],
   "source": [
    "model = open_and_load(\"models/model_2019-05-28_01:34:19.702201\")\n",
    "#print(\"HISTORY!\")\n",
    "#print(model.get_weights())\n",
    "model.compile(optimizer='adam',\n",
    "             loss='mean_squared_error')"
   ]
  },
  {
   "cell_type": "code",
   "execution_count": 29,
   "metadata": {},
   "outputs": [
    {
     "name": "stdout",
     "output_type": "stream",
     "text": [
      "RMSE on single instance:  0.15450607543823985\n"
     ]
    }
   ],
   "source": [
    "def test_single_instance(i):\n",
    "    img = cv2.imread((\"/home/erik/mujocopy_testikas/frames/img_%.4d.png\" % i))\n",
    "    X = np.array([img])\n",
    "    p = model.predict(X)[0]\n",
    "    y = df.iloc[i][:2]\n",
    "    print(\"RMSE on single instance: \", np.sqrt(np.mean((p-y)**2)))\n",
    "\n",
    "test_single_instance(1)"
   ]
  },
  {
   "cell_type": "code",
   "execution_count": 5,
   "metadata": {},
   "outputs": [],
   "source": [
    "i = 1\n",
    "img = cv2.imread((\"/home/erik/mujocopy_testikas/frames/img_%.4d.png\" % i))\n",
    "X = np.array([img])\n",
    "p = model.predict(X)[0]\n",
    "y = df.iloc[i][:2]"
   ]
  },
  {
   "cell_type": "code",
   "execution_count": 6,
   "metadata": {},
   "outputs": [
    {
     "data": {
      "text/plain": [
       "<matplotlib.image.AxesImage at 0x7f79dc4c4198>"
      ]
     },
     "execution_count": 6,
     "metadata": {},
     "output_type": "execute_result"
    },
    {
     "data": {
      "image/png": "[encoded data removed]",
      "text/plain": [
       "<Figure size 432x288 with 1 Axes>"
      ]
     },
     "metadata": {
      "needs_background": "light"
     },
     "output_type": "display_data"
    }
   ],
   "source": [
    "plt.imshow(img)"
   ]
  },
  {
   "cell_type": "code",
   "execution_count": 8,
   "metadata": {},
   "outputs": [
    {
     "name": "stdout",
     "output_type": "stream",
     "text": [
      "_________________________________________________________________\n",
      "Layer (type)                 Output Shape              Param #   \n",
      "=================================================================\n",
      "input_2 (InputLayer)         (None, 480, 480, 3)       0         \n",
      "_________________________________________________________________\n",
      "conv (Conv2D)                (None, 480, 480, 1)       4         \n",
      "_________________________________________________________________\n",
      "max_pooling2d_4 (MaxPooling2 (None, 240, 240, 1)       0         \n",
      "_________________________________________________________________\n",
      "conv2d_2 (Conv2D)            (None, 240, 240, 1)       10        \n",
      "_________________________________________________________________\n",
      "max_pooling2d_5 (MaxPooling2 (None, 120, 120, 1)       0         \n",
      "_________________________________________________________________\n",
      "flatten_2 (Flatten)          (None, 14400)             0         \n",
      "_________________________________________________________________\n",
      "dense_2 (Dense)              (None, 2)                 28802     \n",
      "=================================================================\n",
      "Total params: 28,816\n",
      "Trainable params: 28,816\n",
      "Non-trainable params: 0\n",
      "_________________________________________________________________\n"
     ]
    }
   ],
   "source": [
    "model.summary()"
   ]
  },
  {
   "cell_type": "code",
   "execution_count": 17,
   "metadata": {},
   "outputs": [],
   "source": [
    "X = np.array(load_128_images_starting(9200))\n",
    "p = model.predict(X)[0]\n",
    "y = df.iloc[i][:2]"
   ]
  },
  {
   "cell_type": "code",
   "execution_count": 19,
   "metadata": {},
   "outputs": [
    {
     "data": {
      "text/plain": [
       "0.049708844328005035"
      ]
     },
     "execution_count": 19,
     "metadata": {},
     "output_type": "execute_result"
    }
   ],
   "source": [
    "mse(y,p)"
   ]
  },
  {
   "cell_type": "markdown",
   "metadata": {},
   "source": [
    "# Combining coordinates retriever with prediction module"
   ]
  },
  {
   "cell_type": "code",
   "execution_count": 25,
   "metadata": {},
   "outputs": [],
   "source": [
    "model_2d = open_and_load('models/model_2d')\n",
    "model_2d.compile(loss=mean_squared_error,\n",
    "              optimizer='adam')"
   ]
  },
  {
   "cell_type": "code",
   "execution_count": 30,
   "metadata": {},
   "outputs": [],
   "source": [
    "inputs = Input(shape=(480,480,3))\n",
    "\n",
    "ret = model(inputs)\n",
    "\n",
    "model_combined = Model(inputs=inputs, outputs=ret)\n",
    "model_combined.compile(optimizer='adam',\n",
    "             loss='mean_squared_error')"
   ]
  },
  {
   "cell_type": "code",
   "execution_count": 31,
   "metadata": {},
   "outputs": [
    {
     "name": "stdout",
     "output_type": "stream",
     "text": [
      "_________________________________________________________________\n",
      "Layer (type)                 Output Shape              Param #   \n",
      "=================================================================\n",
      "input_2 (InputLayer)         (None, 480, 480, 3)       0         \n",
      "_________________________________________________________________\n",
      "model_2 (Model)              (None, 2)                 28816     \n",
      "=================================================================\n",
      "Total params: 28,816\n",
      "Trainable params: 28,816\n",
      "Non-trainable params: 0\n",
      "_________________________________________________________________\n"
     ]
    }
   ],
   "source": [
    "model_combined.summary()"
   ]
  },
  {
   "cell_type": "code",
   "execution_count": 35,
   "metadata": {},
   "outputs": [],
   "source": [
    "# from copy import deepcopy\n",
    "# og_weights = deepcopy(model.get_weights())"
   ]
  },
  {
   "cell_type": "code",
   "execution_count": 48,
   "metadata": {},
   "outputs": [],
   "source": [
    "img = cv2.imread(\"/home/erik/mujocopy_testikas/frames/img_0501.png\")\n",
    "A = np.array([img])\n",
    "B = np.array([df.iloc[501,:2]])"
   ]
  },
  {
   "cell_type": "code",
   "execution_count": 51,
   "metadata": {},
   "outputs": [
    {
     "data": {
      "image/png": "[encoded data removed]",
      "text/plain": [
       "<Figure size 360x360 with 1 Axes>"
      ]
     },
     "metadata": {
      "needs_background": "light"
     },
     "output_type": "display_data"
    }
   ],
   "source": [
    "fig, ax = plt.subplots(figsize=(5, 5))\n",
    "ax.set(xlim=(-1, 1))\n",
    "ax.set_xlabel('alpha')\n",
    "ax.set_ylabel('loss')\n",
    "for _ in range(6):\n",
    "    model.set_weights(og_weights)\n",
    "    delta = deepcopy(model.get_weights())\n",
    "    theta = []\n",
    "    for weights in delta:\n",
    "        theta += [weights * np.random.normal(loc=1.0, scale=0.5, size=weights.shape)]\n",
    "\n",
    "    def get_weight_combo(alpha):\n",
    "        l = []\n",
    "\n",
    "        for i in range(len(delta)):\n",
    "            l += [ delta[i]*(1-alpha) + theta[i]*alpha]\n",
    "        return l\n",
    "\n",
    "\n",
    "    rmse_list = []\n",
    "    alphas = np.linspace(-1, 1, num=101)\n",
    "    for alpha in alphas:\n",
    "        weights = get_weight_combo(alpha)\n",
    "        model.set_weights(weights)\n",
    "        P = model.predict(A)\n",
    "        rmse_list += [mse(B, P)**0.5]\n",
    "\n",
    "\n",
    "    # line = ax.plot([0,1],[0,0])\n",
    "\n",
    "    plt.plot(alphas, rmse_list)\n",
    "plt.show()"
   ]
  },
  {
   "cell_type": "code",
   "execution_count": 52,
   "metadata": {},
   "outputs": [],
   "source": [
    "fig.savefig('coord_ret_loss.png')"
   ]
  },
  {
   "cell_type": "code",
   "execution_count": null,
   "metadata": {},
   "outputs": [],
   "source": []
  }
 ],
 "metadata": {
  "kernelspec": {
   "display_name": "Python 3",
   "language": "python",
   "name": "python3"
  },
  "language_info": {
   "codemirror_mode": {
    "name": "ipython",
    "version": 3
   },
   "file_extension": ".py",
   "mimetype": "text/x-python",
   "name": "python",
   "nbconvert_exporter": "python",
   "pygments_lexer": "ipython3",
   "version": "3.6.8"
  }
 },
 "nbformat": 4,
 "nbformat_minor": 2
}
